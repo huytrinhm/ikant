{
 "cells": [
  {
   "cell_type": "code",
   "execution_count": 1,
   "metadata": {},
   "outputs": [],
   "source": [
    "import torch\n",
    "import numpy as np\n",
    "from kan import *"
   ]
  },
  {
   "cell_type": "code",
   "execution_count": 2,
   "metadata": {},
   "outputs": [],
   "source": [
    "def B_batch(x, grid, k=0):\n",
    "    '''\n",
    "    evaludate x on B-spline bases\n",
    "\n",
    "    Args:\n",
    "    -----\n",
    "        x : 2D torch.tensor\n",
    "            inputs, shape (number of splines, number of samples)\n",
    "        grid : 2D torch.tensor\n",
    "            grids, shape (number of splines, number of grid points)\n",
    "        k : int\n",
    "            the piecewise polynomial order of splines.\n",
    "\n",
    "    Returns:\n",
    "    --------\n",
    "        spline values : 3D torch.tensor\n",
    "            shape (number of splines, number of B-spline bases (coeffcients), number of samples). The numbef of B-spline bases = number of grid points + k - 1.\n",
    "\n",
    "    Example\n",
    "    -------\n",
    "    >>> num_spline = 5\n",
    "    >>> num_sample = 100\n",
    "    >>> num_grid_interval = 10\n",
    "    >>> k = 3\n",
    "    >>> x = torch.normal(0,1,size=(num_spline, num_sample))\n",
    "    >>> grids = torch.einsum('i,j->ij', torch.ones(num_spline,), torch.linspace(-1,1,steps=num_grid_interval+1))\n",
    "    >>> B_batch(x, grids, k=k).shape\n",
    "    torch.Size([5, 13, 100])\n",
    "    '''\n",
    "\n",
    "    grid = grid.unsqueeze(dim=2)\n",
    "    x = x.unsqueeze(dim=1)\n",
    "\n",
    "    if k == 0:\n",
    "        value = (x >= grid[:, :-1]) * (x < grid[:, 1:])\n",
    "    else:\n",
    "        B_km1 = B_batch(x[:, 0], grid=grid[:, :, 0], k=k - 1)\n",
    "        value = (x - grid[:, :-(k + 1)]) / (grid[:, k:-1] - grid[:, :-(k + 1)]) * B_km1[:, :-1] + (\n",
    "                    grid[:, k + 1:] - x) / (grid[:, k + 1:] - grid[:, 1:(-k)]) * B_km1[:, 1:]\n",
    "    return value"
   ]
  },
  {
   "cell_type": "code",
   "execution_count": 4,
   "metadata": {},
   "outputs": [],
   "source": [
    "def gen_grid(in_features, spline_order, grid_size, grid_range=[-1, 1]):\n",
    "    h = (grid_range[1] - grid_range[0]) / grid_size\n",
    "    grid = (\n",
    "        (\n",
    "            torch.arange(-spline_order, grid_size + spline_order + 1) * h\n",
    "            + grid_range[0]\n",
    "        )\n",
    "        .expand(in_features, -1)\n",
    "        .contiguous()\n",
    "    )\n",
    "    return grid\n",
    "\n",
    "def b_splines(grid: torch.Tensor, x: torch.Tensor, spline_order: int):\n",
    "    \"\"\"\n",
    "    Compute the B-spline bases for the given input tensor.\n",
    "\n",
    "    Args:\n",
    "        grid (torch.Tensor): Grid tensor of shape (in_features, grid_size + 2 * spline_order + 1).\n",
    "        x (torch.Tensor): Input tensor of shape (batch_size, in_features).\n",
    "        spline_order (int): Spline order.\n",
    "\n",
    "    Returns:\n",
    "        torch.Tensor: B-spline bases tensor of shape (batch_size, in_features, grid_size + spline_order).\n",
    "    \"\"\"\n",
    "\n",
    "    x = x.unsqueeze(-1)\n",
    "    bases = ((x >= grid[:, :-1]) & (x < grid[:, 1:])).to(x.dtype)\n",
    "    for k in range(1, spline_order + 1):\n",
    "        bases = (\n",
    "            (x - grid[:, : -(k + 1)])\n",
    "            / (grid[:, k:-1] - grid[:, : -(k + 1)])\n",
    "            * bases[:, :, :-1]\n",
    "        ) + (\n",
    "            (grid[:, k + 1 :] - x)\n",
    "            / (grid[:, k + 1 :] - grid[:, 1:(-k)])\n",
    "            * bases[:, :, 1:]\n",
    "        )\n",
    "    return bases.contiguous()\n",
    "\n",
    "def b_splines_einsum(grid: torch.Tensor, x: torch.Tensor, spline_order: int):\n",
    "    \"\"\"\n",
    "    Compute the B-spline bases for the given input tensor.\n",
    "\n",
    "    Args:\n",
    "        grid (torch.Tensor): Grid tensor of shape (in_features, grid_size + 2 * spline_order + 1).\n",
    "        x (torch.Tensor): Input tensor of shape (batch_size, in_features).\n",
    "        spline_order (int): Spline order.\n",
    "\n",
    "    Returns:\n",
    "        torch.Tensor: B-spline bases tensor of shape (batch_size, in_features, grid_size + spline_order).\n",
    "    \"\"\"\n",
    "\n",
    "    x_u = x.unsqueeze(-1)\n",
    "    bases = ((x_u >= grid[:, :-1]) & (x_u < grid[:, 1:])).to(x.dtype)\n",
    "    return bases\n",
    "    for k in range(1, spline_order + 1):\n",
    "        print(x.shape)\n",
    "        print(bases.shape)\n",
    "        print(grid.shape)\n",
    "        bases = (\n",
    "            (x - grid[:, : -(k + 1)])\n",
    "            / (grid[:, k:-1] - grid[:, : -(k + 1)])\n",
    "            * bases[:, :, :-1]\n",
    "        ) + (\n",
    "            (grid[:, k + 1 :] - x)\n",
    "            / (grid[:, k + 1 :] - grid[:, 1:(-k)])\n",
    "            * bases[:, :, 1:]\n",
    "        )\n",
    "    return bases.contiguous()"
   ]
  },
  {
   "cell_type": "code",
   "execution_count": 4,
   "metadata": {},
   "outputs": [
    {
     "data": {
      "text/plain": [
       "tensor([[-4., -3., -2., -1.,  0.,  1.,  2.,  3.,  4.]])"
      ]
     },
     "execution_count": 4,
     "metadata": {},
     "output_type": "execute_result"
    }
   ],
   "source": [
    "gen_grid(1, 3, 2)"
   ]
  },
  {
   "cell_type": "code",
   "execution_count": 5,
   "metadata": {},
   "outputs": [
    {
     "data": {
      "text/plain": [
       "True"
      ]
     },
     "execution_count": 5,
     "metadata": {},
     "output_type": "execute_result"
    }
   ],
   "source": [
    "in_features = 2\n",
    "out_features = 3\n",
    "spline_order = 3\n",
    "grid_size = 5\n",
    "batch_size = 41\n",
    "\n",
    "grid = gen_grid(in_features, spline_order, grid_size)\n",
    "grid_expand = grid.repeat_interleave(out_features, dim=0)\n",
    "\n",
    "x = torch.linspace(-3, 3, batch_size)\n",
    "x = torch.stack([x, -x]).transpose(0, 1)\n",
    "x.requires_grad = True\n",
    "x_expand = x.detach().clone().repeat_interleave(out_features, dim=1).transpose(0, 1)\n",
    "x_expand.requires_grad = True\n",
    "\n",
    "bases = b_splines(grid, x, spline_order)\n",
    "bases_extend = B_batch(x_expand, grid_expand, spline_order)\n",
    "torch.allclose(bases.repeat_interleave(out_features, dim=1).permute(1, 2, 0), bases_extend)"
   ]
  },
  {
   "cell_type": "code",
   "execution_count": 6,
   "metadata": {},
   "outputs": [],
   "source": [
    "coefficients = torch.randn(out_features, in_features, grid_size + spline_order, requires_grad=True)\n",
    "weights = torch.randn(out_features, in_features * out_features, requires_grad=True)\n",
    "biases = torch.randn(out_features, requires_grad=True)\n",
    "# i: num_samples\n",
    "# j: in_features\n",
    "# k: num_bases\n",
    "# a: out_features\n",
    "splines = torch.einsum('ijk,ajk->iaj', bases, coefficients)\n",
    "coeff_ex = coefficients.detach().clone().permute(1, 0, 2).reshape(in_features * out_features, -1)\n",
    "splines_ex = torch.einsum('ij,ijk->ik', coeff_ex, bases_extend)\n",
    "# splines = (bases.unsqueeze(1) * coefficients.unsqueeze(0)).sum(dim=-1)\n",
    "activation = splines.reshape(-1, in_features * out_features) @ weights.T + biases\n",
    "# activation"
   ]
  },
  {
   "cell_type": "code",
   "execution_count": 9,
   "metadata": {},
   "outputs": [
    {
     "data": {
      "text/plain": [
       "torch.Size([41, 3])"
      ]
     },
     "execution_count": 9,
     "metadata": {},
     "output_type": "execute_result"
    }
   ],
   "source": [
    "activation.shape"
   ]
  },
  {
   "cell_type": "code",
   "execution_count": 7,
   "metadata": {},
   "outputs": [
    {
     "data": {
      "text/plain": [
       "True"
      ]
     },
     "execution_count": 7,
     "metadata": {},
     "output_type": "execute_result"
    }
   ],
   "source": [
    "A = splines_ex.transpose(0, 1).reshape(-1, in_features, out_features).transpose(1, 2)\n",
    "torch.allclose(A, splines)"
   ]
  },
  {
   "cell_type": "code",
   "execution_count": 8,
   "metadata": {},
   "outputs": [],
   "source": [
    "x.grad = None\n",
    "coefficients.grad = None\n",
    "splines.sum().backward(retain_graph=True)"
   ]
  },
  {
   "cell_type": "code",
   "execution_count": 9,
   "metadata": {},
   "outputs": [],
   "source": [
    "x_expand.grad = None\n",
    "A.sum().backward(retain_graph=True)"
   ]
  },
  {
   "cell_type": "code",
   "execution_count": 10,
   "metadata": {},
   "outputs": [],
   "source": [
    "def spline_der(x, coeff, grid, spline_order):\n",
    "    bases = b_splines(grid, x, spline_order - 1)\n",
    "    numerator = coeff[:, :, 1:] - coeff[:, :, :-1]\n",
    "    denominator = grid[:, (spline_order + 1):-1] - grid[:, 1:-(spline_order + 1)]\n",
    "    frac = numerator / denominator\n",
    "    print(numerator.shape)\n",
    "    print(denominator.shape)\n",
    "    print(frac.shape)\n",
    "    print(bases[:, :, 1:-1].shape)\n",
    "    return (frac.unsqueeze(0) * bases[:, :, 1:-1].unsqueeze(1)).sum(dim=-1).sum(dim=1) * spline_order\n",
    "\n",
    "def spline_der_full(x, coeff, grid, spline_order):\n",
    "    bases = b_splines(grid, x, spline_order - 1)\n",
    "    den1 = grid[:, spline_order:-1] - grid[:, :-(spline_order + 1)]\n",
    "    den2 = grid[:, (spline_order + 1):] - grid[:, 1:-spline_order]\n",
    "    print(den1.shape)\n",
    "    print(den2.shape)\n",
    "    print(bases[:, :, :-1].shape)\n",
    "    tmp = bases[:, :, :-1] / den1.unsqueeze(0) - bases[:, :, 1:] / den2.unsqueeze(0)\n",
    "    print(tmp.shape)\n",
    "    print(coeff.shape)\n",
    "    return (coefficients.unsqueeze(0) * tmp.unsqueeze(1)).sum(dim=-1).sum(dim=1) * spline_order\n",
    "\n",
    "def spline_der_residuals(x, coeff, grid, spline_order):\n",
    "    bases = b_splines(grid, x, spline_order - 1)\n",
    "    return bases\n",
    "    numerator = coeff[:, :, 1:] - coeff[:, :, :-1]\n",
    "    denominator = grid[:, (spline_order + 1):-1] - grid[:, 1:-(spline_order + 1)]\n",
    "    frac = numerator / denominator\n",
    "    print(numerator.shape)\n",
    "    print(denominator.shape)\n",
    "    print(frac.shape)\n",
    "    print(bases[:, :, 1:-1].shape)\n",
    "    return (frac.unsqueeze(0) * bases[:, :, 1:-1].unsqueeze(1)).sum(dim=-1).sum(dim=1) * spline_order\n",
    "\n",
    "def spline_der_1(x, coeff, grid, spline_order, i, j, k):\n",
    "    bases = b_splines(grid, x, spline_order - 1)\n",
    "    numerator = coeff[j, k, 1:] - coeff[j, k, :-1]\n",
    "    denominator = grid[k, (spline_order + 1):-1] - grid[k, 1:-(spline_order + 1)]\n",
    "    frac = numerator / denominator\n",
    "    print(numerator.shape)\n",
    "    print(denominator.shape)\n",
    "    print(frac.shape)\n",
    "    print(bases[i, k, 1:-1].shape)\n",
    "    return (frac * bases[i, k, 1:-1]).sum() * spline_order"
   ]
  },
  {
   "cell_type": "code",
   "execution_count": 11,
   "metadata": {},
   "outputs": [
    {
     "data": {
      "text/plain": [
       "tensor(5.3644e-07)"
      ]
     },
     "execution_count": 11,
     "metadata": {},
     "output_type": "execute_result"
    }
   ],
   "source": [
    "G1 = x.grad\n",
    "G2 = x_expand.grad.transpose(0, 1).reshape(-1, in_features, out_features).sum(dim=2)\n",
    "(G1 - G2).abs().max()\n",
    "# torch.allclose(G1, G2)"
   ]
  },
  {
   "cell_type": "code",
   "execution_count": 12,
   "metadata": {},
   "outputs": [
    {
     "name": "stdout",
     "output_type": "stream",
     "text": [
      "torch.Size([2, 8])\n",
      "torch.Size([2, 8])\n",
      "torch.Size([41, 2, 8])\n",
      "torch.Size([41, 2, 8])\n",
      "torch.Size([3, 2, 8])\n"
     ]
    },
    {
     "data": {
      "text/plain": [
       "tensor(9.5367e-07, grad_fn=<MaxBackward1>)"
      ]
     },
     "execution_count": 12,
     "metadata": {},
     "output_type": "execute_result"
    }
   ],
   "source": [
    "G1 = x.grad\n",
    "G2 = spline_der_full(x, coefficients, grid, spline_order)\n",
    "(G1 - G2).abs().max()"
   ]
  },
  {
   "cell_type": "code",
   "execution_count": 58,
   "metadata": {},
   "outputs": [],
   "source": [
    "def tofile(tensor, filename):\n",
    "    arr = tensor.contiguous().detach().numpy()\n",
    "    payload = arr.ndim.to_bytes(4, 'little') + b''.join(map(lambda i: i.to_bytes(4, 'little'), arr.shape)) + b''.join(map(lambda i: (i // 4).to_bytes(4, 'little'), arr.strides)) + arr.tobytes()\n",
    "    with open(filename, 'wb') as f:\n",
    "        f.write(payload)"
   ]
  },
  {
   "cell_type": "code",
   "execution_count": 36,
   "metadata": {},
   "outputs": [],
   "source": [
    "def save_checkpoint(filename, widths, spline_order, grid_size, coeffs):\n",
    "    layer_payloads = []\n",
    "    for in_features, out_features, coeff in zip(widths[:-1], widths[1:], coeffs):\n",
    "        arr = coeff.contiguous().detach().numpy()\n",
    "        layer_payloads.append(\n",
    "            arr.tobytes() +\n",
    "            b'\\x00\\x00\\x80\\x3F' * (out_features * in_features * 2 + out_features)\n",
    "        )\n",
    "        print(len(layer_payloads[-1]) // 4)\n",
    "    payload = (\n",
    "        (len(widths) - 1).to_bytes(4, 'little') +\n",
    "        spline_order.to_bytes(4, 'little') +\n",
    "        grid_size.to_bytes(4, 'little') +\n",
    "        b''.join(map(lambda i: i.to_bytes(4, 'little'), widths)) +\n",
    "        b''.join(layer_payloads)\n",
    "    )\n",
    "    with open(filename, 'wb') as f:\n",
    "        f.write(payload)"
   ]
  },
  {
   "cell_type": "code",
   "execution_count": 1,
   "metadata": {},
   "outputs": [],
   "source": [
    "def save_checkpoint_from_model(filename, model):\n",
    "    width = model.width\n",
    "    spline_order = model.k\n",
    "    grid_size = model.grid\n",
    "    layer_payloads = []\n",
    "    for in_features, out_features, layer, bias in zip(width[:-1], width[1:], model.act_fun, model.biases):\n",
    "        coeff = layer.coef.view(out_features, in_features, -1)\n",
    "        coeff = coeff.contiguous().detach().numpy()\n",
    "\n",
    "        basis_weights = layer.scale_base.view(out_features, in_features)\n",
    "        basis_weights = basis_weights.contiguous().detach().numpy()\n",
    "\n",
    "        spline_weights = layer.scale_sp.view(out_features, in_features)\n",
    "        spline_weights = spline_weights.contiguous().detach().numpy()\n",
    "\n",
    "        bias = bias.weight.contiguous().detach().numpy()\n",
    "        layer_payloads.append(\n",
    "            coeff.tobytes() +\n",
    "            basis_weights.tobytes() +\n",
    "            spline_weights.tobytes() +\n",
    "            bias.tobytes()\n",
    "        )\n",
    "    payload = (\n",
    "        (len(width) - 1).to_bytes(4, 'little') +\n",
    "        spline_order.to_bytes(4, 'little') +\n",
    "        grid_size.to_bytes(4, 'little') +\n",
    "        b''.join(map(lambda i: i.to_bytes(4, 'little'), width)) +\n",
    "        b''.join(layer_payloads)\n",
    "    )\n",
    "    with open(filename, 'wb') as f:\n",
    "        f.write(payload)"
   ]
  },
  {
   "cell_type": "code",
   "execution_count": 2,
   "metadata": {},
   "outputs": [
    {
     "name": "stdout",
     "output_type": "stream",
     "text": [
      "tensor([[[0.1667, 0.6667, 0.1667, 0.0000, 0.0000, 0.0000, 0.0000, 0.0000],\n",
      "         [0.0000, 0.1667, 0.6667, 0.1667, 0.0000, 0.0000, 0.0000, 0.0000],\n",
      "         [0.0000, 0.0000, 0.1667, 0.6667, 0.1667, 0.0000, 0.0000, 0.0000],\n",
      "         [0.0000, 0.0000, 0.0000, 0.1667, 0.6667, 0.1667, 0.0000, 0.0000],\n",
      "         [0.0000, 0.0000, 0.0000, 0.0000, 0.1667, 0.6667, 0.1667, 0.0000],\n",
      "         [0.0000, 0.0000, 0.0000, 0.0000, 0.0000, 0.1667, 0.6667, 0.1667]],\n",
      "\n",
      "        [[0.1667, 0.6667, 0.1667, 0.0000, 0.0000, 0.0000, 0.0000, 0.0000],\n",
      "         [0.0000, 0.1667, 0.6667, 0.1667, 0.0000, 0.0000, 0.0000, 0.0000],\n",
      "         [0.0000, 0.0000, 0.1667, 0.6667, 0.1667, 0.0000, 0.0000, 0.0000],\n",
      "         [0.0000, 0.0000, 0.0000, 0.1667, 0.6667, 0.1667, 0.0000, 0.0000],\n",
      "         [0.0000, 0.0000, 0.0000, 0.0000, 0.1667, 0.6667, 0.1667, 0.0000],\n",
      "         [0.0000, 0.0000, 0.0000, 0.0000, 0.0000, 0.1667, 0.6667, 0.1667]],\n",
      "\n",
      "        [[0.1667, 0.6667, 0.1667, 0.0000, 0.0000, 0.0000, 0.0000, 0.0000],\n",
      "         [0.0000, 0.1667, 0.6667, 0.1667, 0.0000, 0.0000, 0.0000, 0.0000],\n",
      "         [0.0000, 0.0000, 0.1667, 0.6667, 0.1667, 0.0000, 0.0000, 0.0000],\n",
      "         [0.0000, 0.0000, 0.0000, 0.1667, 0.6667, 0.1667, 0.0000, 0.0000],\n",
      "         [0.0000, 0.0000, 0.0000, 0.0000, 0.1667, 0.6667, 0.1667, 0.0000],\n",
      "         [0.0000, 0.0000, 0.0000, 0.0000, 0.0000, 0.1667, 0.6667, 0.1667]],\n",
      "\n",
      "        [[0.1667, 0.6667, 0.1667, 0.0000, 0.0000, 0.0000, 0.0000, 0.0000],\n",
      "         [0.0000, 0.1667, 0.6667, 0.1667, 0.0000, 0.0000, 0.0000, 0.0000],\n",
      "         [0.0000, 0.0000, 0.1667, 0.6667, 0.1667, 0.0000, 0.0000, 0.0000],\n",
      "         [0.0000, 0.0000, 0.0000, 0.1667, 0.6667, 0.1667, 0.0000, 0.0000],\n",
      "         [0.0000, 0.0000, 0.0000, 0.0000, 0.1667, 0.6667, 0.1667, 0.0000],\n",
      "         [0.0000, 0.0000, 0.0000, 0.0000, 0.0000, 0.1667, 0.6667, 0.1667]],\n",
      "\n",
      "        [[0.1667, 0.6667, 0.1667, 0.0000, 0.0000, 0.0000, 0.0000, 0.0000],\n",
      "         [0.0000, 0.1667, 0.6667, 0.1667, 0.0000, 0.0000, 0.0000, 0.0000],\n",
      "         [0.0000, 0.0000, 0.1667, 0.6667, 0.1667, 0.0000, 0.0000, 0.0000],\n",
      "         [0.0000, 0.0000, 0.0000, 0.1667, 0.6667, 0.1667, 0.0000, 0.0000],\n",
      "         [0.0000, 0.0000, 0.0000, 0.0000, 0.1667, 0.6667, 0.1667, 0.0000],\n",
      "         [0.0000, 0.0000, 0.0000, 0.0000, 0.0000, 0.1667, 0.6667, 0.1667]],\n",
      "\n",
      "        [[0.1667, 0.6667, 0.1667, 0.0000, 0.0000, 0.0000, 0.0000, 0.0000],\n",
      "         [0.0000, 0.1667, 0.6667, 0.1667, 0.0000, 0.0000, 0.0000, 0.0000],\n",
      "         [0.0000, 0.0000, 0.1667, 0.6667, 0.1667, 0.0000, 0.0000, 0.0000],\n",
      "         [0.0000, 0.0000, 0.0000, 0.1667, 0.6667, 0.1667, 0.0000, 0.0000],\n",
      "         [0.0000, 0.0000, 0.0000, 0.0000, 0.1667, 0.6667, 0.1667, 0.0000],\n",
      "         [0.0000, 0.0000, 0.0000, 0.0000, 0.0000, 0.1667, 0.6667, 0.1667]],\n",
      "\n",
      "        [[0.1667, 0.6667, 0.1667, 0.0000, 0.0000, 0.0000, 0.0000, 0.0000],\n",
      "         [0.0000, 0.1667, 0.6667, 0.1667, 0.0000, 0.0000, 0.0000, 0.0000],\n",
      "         [0.0000, 0.0000, 0.1667, 0.6667, 0.1667, 0.0000, 0.0000, 0.0000],\n",
      "         [0.0000, 0.0000, 0.0000, 0.1667, 0.6667, 0.1667, 0.0000, 0.0000],\n",
      "         [0.0000, 0.0000, 0.0000, 0.0000, 0.1667, 0.6667, 0.1667, 0.0000],\n",
      "         [0.0000, 0.0000, 0.0000, 0.0000, 0.0000, 0.1667, 0.6667, 0.1667]],\n",
      "\n",
      "        [[0.1667, 0.6667, 0.1667, 0.0000, 0.0000, 0.0000, 0.0000, 0.0000],\n",
      "         [0.0000, 0.1667, 0.6667, 0.1667, 0.0000, 0.0000, 0.0000, 0.0000],\n",
      "         [0.0000, 0.0000, 0.1667, 0.6667, 0.1667, 0.0000, 0.0000, 0.0000],\n",
      "         [0.0000, 0.0000, 0.0000, 0.1667, 0.6667, 0.1667, 0.0000, 0.0000],\n",
      "         [0.0000, 0.0000, 0.0000, 0.0000, 0.1667, 0.6667, 0.1667, 0.0000],\n",
      "         [0.0000, 0.0000, 0.0000, 0.0000, 0.0000, 0.1667, 0.6667, 0.1667]],\n",
      "\n",
      "        [[0.1667, 0.6667, 0.1667, 0.0000, 0.0000, 0.0000, 0.0000, 0.0000],\n",
      "         [0.0000, 0.1667, 0.6667, 0.1667, 0.0000, 0.0000, 0.0000, 0.0000],\n",
      "         [0.0000, 0.0000, 0.1667, 0.6667, 0.1667, 0.0000, 0.0000, 0.0000],\n",
      "         [0.0000, 0.0000, 0.0000, 0.1667, 0.6667, 0.1667, 0.0000, 0.0000],\n",
      "         [0.0000, 0.0000, 0.0000, 0.0000, 0.1667, 0.6667, 0.1667, 0.0000],\n",
      "         [0.0000, 0.0000, 0.0000, 0.0000, 0.0000, 0.1667, 0.6667, 0.1667]],\n",
      "\n",
      "        [[0.1667, 0.6667, 0.1667, 0.0000, 0.0000, 0.0000, 0.0000, 0.0000],\n",
      "         [0.0000, 0.1667, 0.6667, 0.1667, 0.0000, 0.0000, 0.0000, 0.0000],\n",
      "         [0.0000, 0.0000, 0.1667, 0.6667, 0.1667, 0.0000, 0.0000, 0.0000],\n",
      "         [0.0000, 0.0000, 0.0000, 0.1667, 0.6667, 0.1667, 0.0000, 0.0000],\n",
      "         [0.0000, 0.0000, 0.0000, 0.0000, 0.1667, 0.6667, 0.1667, 0.0000],\n",
      "         [0.0000, 0.0000, 0.0000, 0.0000, 0.0000, 0.1667, 0.6667, 0.1667]]])\n",
      "tensor([[ 0.0036,  0.0083, -0.0021,  0.0075, -0.0016,  0.0011],\n",
      "        [ 0.0091, -0.0093, -0.0063, -0.0025, -0.0039,  0.0086],\n",
      "        [-0.0065, -0.0046, -0.0070, -0.0094, -0.0058,  0.0086],\n",
      "        [ 0.0045,  0.0048,  0.0005, -0.0051,  0.0017, -0.0093],\n",
      "        [-0.0072, -0.0052,  0.0063,  0.0059, -0.0044, -0.0004],\n",
      "        [ 0.0064,  0.0099,  0.0040,  0.0014,  0.0067, -0.0059],\n",
      "        [ 0.0019, -0.0078, -0.0069, -0.0052,  0.0045,  0.0040],\n",
      "        [-0.0059,  0.0030,  0.0055, -0.0013,  0.0004,  0.0023],\n",
      "        [ 0.0062,  0.0096, -0.0077, -0.0037,  0.0039,  0.0083],\n",
      "        [ 0.0087,  0.0088,  0.0020, -0.0087,  0.0009, -0.0063]])\n",
      "tensor([[[0.1667, 0.6667, 0.1667, 0.0000, 0.0000, 0.0000, 0.0000, 0.0000],\n",
      "         [0.0000, 0.1667, 0.6667, 0.1667, 0.0000, 0.0000, 0.0000, 0.0000],\n",
      "         [0.0000, 0.0000, 0.1667, 0.6667, 0.1667, 0.0000, 0.0000, 0.0000],\n",
      "         [0.0000, 0.0000, 0.0000, 0.1667, 0.6667, 0.1667, 0.0000, 0.0000],\n",
      "         [0.0000, 0.0000, 0.0000, 0.0000, 0.1667, 0.6667, 0.1667, 0.0000],\n",
      "         [0.0000, 0.0000, 0.0000, 0.0000, 0.0000, 0.1667, 0.6667, 0.1667]],\n",
      "\n",
      "        [[0.1667, 0.6667, 0.1667, 0.0000, 0.0000, 0.0000, 0.0000, 0.0000],\n",
      "         [0.0000, 0.1667, 0.6667, 0.1667, 0.0000, 0.0000, 0.0000, 0.0000],\n",
      "         [0.0000, 0.0000, 0.1667, 0.6667, 0.1667, 0.0000, 0.0000, 0.0000],\n",
      "         [0.0000, 0.0000, 0.0000, 0.1667, 0.6667, 0.1667, 0.0000, 0.0000],\n",
      "         [0.0000, 0.0000, 0.0000, 0.0000, 0.1667, 0.6667, 0.1667, 0.0000],\n",
      "         [0.0000, 0.0000, 0.0000, 0.0000, 0.0000, 0.1667, 0.6667, 0.1667]],\n",
      "\n",
      "        [[0.1667, 0.6667, 0.1667, 0.0000, 0.0000, 0.0000, 0.0000, 0.0000],\n",
      "         [0.0000, 0.1667, 0.6667, 0.1667, 0.0000, 0.0000, 0.0000, 0.0000],\n",
      "         [0.0000, 0.0000, 0.1667, 0.6667, 0.1667, 0.0000, 0.0000, 0.0000],\n",
      "         [0.0000, 0.0000, 0.0000, 0.1667, 0.6667, 0.1667, 0.0000, 0.0000],\n",
      "         [0.0000, 0.0000, 0.0000, 0.0000, 0.1667, 0.6667, 0.1667, 0.0000],\n",
      "         [0.0000, 0.0000, 0.0000, 0.0000, 0.0000, 0.1667, 0.6667, 0.1667]],\n",
      "\n",
      "        [[0.1667, 0.6667, 0.1667, 0.0000, 0.0000, 0.0000, 0.0000, 0.0000],\n",
      "         [0.0000, 0.1667, 0.6667, 0.1667, 0.0000, 0.0000, 0.0000, 0.0000],\n",
      "         [0.0000, 0.0000, 0.1667, 0.6667, 0.1667, 0.0000, 0.0000, 0.0000],\n",
      "         [0.0000, 0.0000, 0.0000, 0.1667, 0.6667, 0.1667, 0.0000, 0.0000],\n",
      "         [0.0000, 0.0000, 0.0000, 0.0000, 0.1667, 0.6667, 0.1667, 0.0000],\n",
      "         [0.0000, 0.0000, 0.0000, 0.0000, 0.0000, 0.1667, 0.6667, 0.1667]],\n",
      "\n",
      "        [[0.1667, 0.6667, 0.1667, 0.0000, 0.0000, 0.0000, 0.0000, 0.0000],\n",
      "         [0.0000, 0.1667, 0.6667, 0.1667, 0.0000, 0.0000, 0.0000, 0.0000],\n",
      "         [0.0000, 0.0000, 0.1667, 0.6667, 0.1667, 0.0000, 0.0000, 0.0000],\n",
      "         [0.0000, 0.0000, 0.0000, 0.1667, 0.6667, 0.1667, 0.0000, 0.0000],\n",
      "         [0.0000, 0.0000, 0.0000, 0.0000, 0.1667, 0.6667, 0.1667, 0.0000],\n",
      "         [0.0000, 0.0000, 0.0000, 0.0000, 0.0000, 0.1667, 0.6667, 0.1667]]])\n",
      "tensor([[ 0.0021, -0.0078, -0.0058,  0.0094,  0.0067, -0.0044],\n",
      "        [-0.0025, -0.0095, -0.0002, -0.0075, -0.0077, -0.0006],\n",
      "        [ 0.0015, -0.0041,  0.0059, -0.0061,  0.0091,  0.0069],\n",
      "        [-0.0084, -0.0025,  0.0005,  0.0015,  0.0024,  0.0039],\n",
      "        [ 0.0006, -0.0049,  0.0047, -0.0096, -0.0059, -0.0025]])\n"
     ]
    },
    {
     "data": {
      "text/plain": [
       "(torch.Size([1000, 2]), torch.Size([1000, 1]))"
      ]
     },
     "execution_count": 2,
     "metadata": {},
     "output_type": "execute_result"
    }
   ],
   "source": [
    "from kan import *\n",
    "\n",
    "# x = torch.linspace(-3, 3, 41)\n",
    "# x = torch.stack([x, -x]).transpose(0, 1)\n",
    "\n",
    "model = KAN([2, 5, 1], grid=5, k=3, seed=0)\n",
    "save_checkpoint_from_model('checkpoint2.dat', model)\n",
    "\n",
    "f = lambda x: torch.exp(torch.sin(torch.pi*x[:,[0]]) + x[:,[1]]**2)\n",
    "dataset = create_dataset(f, n_var=2, train_num=1000, test_num=0)\n",
    "x, y = dataset['train_input'], dataset['train_label']\n",
    "dataset['train_input'].shape, dataset['train_label'].shape"
   ]
  },
  {
   "cell_type": "code",
   "execution_count": 29,
   "metadata": {},
   "outputs": [
    {
     "data": {
      "image/png": "[encoded data removed]",
      "text/plain": [
       "<Figure size 500x400 with 16 Axes>"
      ]
     },
     "metadata": {},
     "output_type": "display_data"
    }
   ],
   "source": [
    "model(x)\n",
    "model.plot()"
   ]
  },
  {
   "cell_type": "code",
   "execution_count": 59,
   "metadata": {},
   "outputs": [],
   "source": [
    "tofile(x, 'x.dat')\n",
    "tofile(y, 'y.dat')"
   ]
  },
  {
   "cell_type": "code",
   "execution_count": 38,
   "metadata": {},
   "outputs": [
    {
     "name": "stdout",
     "output_type": "stream",
     "text": [
      "63\n",
      "47\n"
     ]
    }
   ],
   "source": [
    "save_checkpoint('checkpoint2.dat', [2, 3, 1], 3, 5, [coefficients, torch.ones([1, 5, 8])])"
   ]
  },
  {
   "cell_type": "code",
   "execution_count": 14,
   "metadata": {},
   "outputs": [],
   "source": [
    "def fromfile(filename):\n",
    "    with open(filename, \"rb\") as f:\n",
    "        dim = int.from_bytes(f.read(4), byteorder='little')\n",
    "        shape = []\n",
    "        size = 1\n",
    "        for _ in range(dim):\n",
    "            shape.append(int.from_bytes(f.read(4), byteorder='little'))\n",
    "            size *= shape[-1]\n",
    "        stride = []\n",
    "        for _ in range(dim):\n",
    "            stride.append(int.from_bytes(f.read(4), byteorder='little'))\n",
    "        buf = f.read(size * 4)\n",
    "        arr = np.frombuffer(buf, dtype=np.float32).reshape(shape)\n",
    "        return torch.tensor(arr)"
   ]
  },
  {
   "cell_type": "code",
   "execution_count": 109,
   "metadata": {},
   "outputs": [
    {
     "data": {
      "text/plain": [
       "tensor(0., grad_fn=<MaxBackward1>)"
      ]
     },
     "execution_count": 109,
     "metadata": {},
     "output_type": "execute_result"
    }
   ],
   "source": [
    "b1 = b_splines(grid, x, 3)\n",
    "b2 = fromfile(\"bases.bin\")\n",
    "(b1 - b2).abs().max()"
   ]
  },
  {
   "cell_type": "code",
   "execution_count": 17,
   "metadata": {},
   "outputs": [
    {
     "data": {
      "text/plain": [
       "tensor(1.4305e-06)"
      ]
     },
     "execution_count": 17,
     "metadata": {},
     "output_type": "execute_result"
    }
   ],
   "source": [
    "g1 = x.grad\n",
    "g2 = fromfile(\"grad.bin\")\n",
    "(g1 - g2).abs().max()"
   ]
  },
  {
   "cell_type": "code",
   "execution_count": 34,
   "metadata": {},
   "outputs": [
    {
     "data": {
      "text/plain": [
       "torch.Size([41, 2])"
      ]
     },
     "execution_count": 34,
     "metadata": {},
     "output_type": "execute_result"
    }
   ],
   "source": [
    "g2.shape"
   ]
  },
  {
   "cell_type": "code",
   "execution_count": 19,
   "metadata": {},
   "outputs": [
    {
     "data": {
      "text/plain": [
       "tensor([-0.1235, -0.0217])"
      ]
     },
     "execution_count": 19,
     "metadata": {},
     "output_type": "execute_result"
    }
   ],
   "source": [
    "g1.sum(dim=0)"
   ]
  }
 ],
 "metadata": {
  "kernelspec": {
   "display_name": "Python 3",
   "language": "python",
   "name": "python3"
  },
  "language_info": {
   "codemirror_mode": {
    "name": "ipython",
    "version": 3
   },
   "file_extension": ".py",
   "mimetype": "text/x-python",
   "name": "python",
   "nbconvert_exporter": "python",
   "pygments_lexer": "ipython3",
   "version": "3.9.19"
  }
 },
 "nbformat": 4,
 "nbformat_minor": 2
}
